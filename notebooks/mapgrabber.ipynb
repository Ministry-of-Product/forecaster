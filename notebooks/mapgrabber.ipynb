{
 "cells": [
  {
   "cell_type": "code",
   "execution_count": 1,
   "id": "f8b554b5-4fc9-4d56-99a1-988a216114e0",
   "metadata": {},
   "outputs": [
    {
     "ename": "ModuleNotFoundError",
     "evalue": "No module named 'selenium'",
     "output_type": "error",
     "traceback": [
      "\u001b[0;31m---------------------------------------------------------------------------\u001b[0m",
      "\u001b[0;31mModuleNotFoundError\u001b[0m                       Traceback (most recent call last)",
      "Cell \u001b[0;32mIn[1], line 3\u001b[0m\n\u001b[1;32m      1\u001b[0m \u001b[38;5;28;01mimport\u001b[39;00m \u001b[38;5;21;01mrequests\u001b[39;00m\n\u001b[1;32m      2\u001b[0m \u001b[38;5;28;01mfrom\u001b[39;00m \u001b[38;5;21;01mbs4\u001b[39;00m \u001b[38;5;28;01mimport\u001b[39;00m BeautifulSoup\n\u001b[0;32m----> 3\u001b[0m \u001b[38;5;28;01mfrom\u001b[39;00m \u001b[38;5;21;01mselenium\u001b[39;00m \u001b[38;5;28;01mimport\u001b[39;00m webdriver\n\u001b[1;32m      4\u001b[0m \u001b[38;5;28;01mfrom\u001b[39;00m \u001b[38;5;21;01mselenium\u001b[39;00m\u001b[38;5;21;01m.\u001b[39;00m\u001b[38;5;21;01mwebdriver\u001b[39;00m\u001b[38;5;21;01m.\u001b[39;00m\u001b[38;5;21;01mchrome\u001b[39;00m\u001b[38;5;21;01m.\u001b[39;00m\u001b[38;5;21;01moptions\u001b[39;00m \u001b[38;5;28;01mimport\u001b[39;00m Options\n",
      "\u001b[0;31mModuleNotFoundError\u001b[0m: No module named 'selenium'"
     ]
    }
   ],
   "source": [
    "import requests\n",
    "from bs4 import BeautifulSoup\n",
    "from selenium import webdriver\n",
    "from selenium.webdriver.chrome.options import Options\n"
   ]
  },
  {
   "cell_type": "code",
   "execution_count": 34,
   "id": "bdae2132-77dd-492e-93a7-76b5f01eb139",
   "metadata": {},
   "outputs": [],
   "source": [
    "URL = 'https://www.google.com/maps/dir/Seattle,+WA/Stevens+Pass,+Washington+98826/@47.7161422,-123.0288051,8z/data=!3m1!4b1!4m14!4m13!1m5!1m1!1s0x5490102c93e83355:0x102565466944d59a!2m2!1d-122.3328481!2d47.6061389!1m5!1m1!1s0x549af0c5541e0005:0xc22c0e63a6ffba92!2m2!1d-121.0859328!2d47.7462223!3e0?entry=ttu'\n",
    "PATH_TO_CHROMEDRIVER='/Users/paulin/Documents/GitHub/forecaster/chromedriver/chromedriver'\n",
    "DIV_NAME = 'Fk3sm fontHeadlineSmall delay-light'"
   ]
  },
  {
   "cell_type": "code",
   "execution_count": 35,
   "id": "ddbc6688-349f-4c7f-ab10-765abdf59a94",
   "metadata": {},
   "outputs": [],
   "source": [
    "# import time\n",
    "\n",
    "# from selenium import webdriver\n",
    "\n",
    "# driver = webdriver.Chrome(PATH_TO_CHROMEDRIVER)  # Optional argument, if not specified will search path.\n",
    "\n",
    "# driver.get('http://www.google.com/');\n",
    "\n",
    "# time.sleep(5) # Let the user actually see something!\n",
    "\n",
    "# search_box = driver.find_element_by_name('q')\n",
    "\n",
    "# search_box.send_keys('ChromeDriver')\n",
    "\n",
    "# search_box.submit()\n",
    "\n",
    "# time.sleep(5) # Let the user actually see something!\n",
    "\n",
    "# driver.quit()"
   ]
  },
  {
   "cell_type": "code",
   "execution_count": 36,
   "id": "afbfa7d6-48cd-4a2e-a791-a2cee46030c1",
   "metadata": {},
   "outputs": [],
   "source": [
    "#!pip list"
   ]
  },
  {
   "cell_type": "code",
   "execution_count": 37,
   "id": "c009c5e0-c482-4227-b975-82453f3f0999",
   "metadata": {},
   "outputs": [
    {
     "name": "stdout",
     "output_type": "stream",
     "text": [
      "/Users/paulin/Documents/GitHub/forecaster/chromedriver/chromedriver\n",
      "<div class=\"Fk3sm fontHeadlineSmall delay-light\">1 hr 38 min</div>\n",
      "<div class=\"Fk3sm fontHeadlineSmall delay-light\">1 hr 38 min</div>\n",
      "Total time in minutes: 98\n"
     ]
    }
   ],
   "source": [
    "def parse_for_minute(time_div):\n",
    "    # Find the div with the specific class\n",
    "    print(time_div)\n",
    "    if time_div:\n",
    "        time_str = time_div.text.strip()  # \"1 hr 34 min\"\n",
    "        hours, minutes = 0, 0\n",
    "\n",
    "        # Extract hours if present\n",
    "        if 'hr' in time_str:\n",
    "            hours = int(time_str.split('hr')[0].strip())\n",
    "\n",
    "        # Extract minutes if present\n",
    "        if 'min' in time_str:\n",
    "            minutes = int(time_str.split('min')[0].split()[-1])\n",
    "\n",
    "        total_minutes = (hours * 60) + minutes\n",
    "        print(f\"Total time in minutes: {total_minutes}\")\n",
    "        return total_minutes\n",
    "    else:\n",
    "        print(\"Div not found!\")\n",
    "        \n",
    "\n",
    "        \n",
    "# Setup Selenium to use Chrome`\n",
    "print(PATH_TO_CHROMEDRIVER)\n",
    "#driver = webdriver.Chrome(PATH_TO_CHROMEDRIVER)\n",
    "chrome_options = Options()\n",
    "chrome_options.add_argument(\"--headless\")\n",
    "driver = webdriver.Chrome(options=chrome_options)\n",
    "\n",
    "# Fetch the webpage\n",
    "driver.get(URL)\n",
    "\n",
    "# Let's give it some time to render and execute JavaScript\n",
    "driver.implicitly_wait(10)\n",
    "\n",
    "# Get the rendered HTML source\n",
    "soup = BeautifulSoup(driver.page_source, 'html.parser')\n",
    "\n",
    "# Locate the desired div\n",
    "time_div = soup.find('div', class_=DIV_NAME)\n",
    "print(time_div)\n",
    "minutes = parse_for_minute(time_div)\n",
    "\n",
    "# Close the browser\n",
    "driver.close()"
   ]
  },
  {
   "cell_type": "code",
   "execution_count": 22,
   "id": "5174588a-dffc-4659-8ab1-eb70d565d21f",
   "metadata": {},
   "outputs": [],
   "source": [
    "#get_and_parse_data()"
   ]
  },
  {
   "cell_type": "code",
   "execution_count": null,
   "id": "0dd1f7b9-f062-4a36-871f-7ead3040f62d",
   "metadata": {},
   "outputs": [],
   "source": []
  }
 ],
 "metadata": {
  "kernelspec": {
   "display_name": "Python 3 (ipykernel)",
   "language": "python",
   "name": "python3"
  },
  "language_info": {
   "codemirror_mode": {
    "name": "ipython",
    "version": 3
   },
   "file_extension": ".py",
   "mimetype": "text/x-python",
   "name": "python",
   "nbconvert_exporter": "python",
   "pygments_lexer": "ipython3",
   "version": "3.9.13"
  }
 },
 "nbformat": 4,
 "nbformat_minor": 5
}
